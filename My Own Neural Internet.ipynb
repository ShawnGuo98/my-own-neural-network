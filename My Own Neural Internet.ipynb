{
 "cells": [
  {
   "cell_type": "code",
   "execution_count": 1,
   "metadata": {},
   "outputs": [],
   "source": [
    "#数组包\n",
    "import numpy\n",
    "#激活函数S函数 expit()\n",
    "import scipy.special\n",
    "#绘图包\n",
    "import matplotlib.pyplot\n",
    "#在程序内绘图\n",
    "%matplotlib inline"
   ]
  },
  {
   "cell_type": "code",
   "execution_count": 2,
   "metadata": {},
   "outputs": [],
   "source": [
    "#神经网络类\n",
    "class neuralNetwork:\n",
    "    \n",
    "    #初始化神经网络\n",
    "    def __init__(self, inputnodes, hiddennodes, outputnodes, learningrate):\n",
    "        #初始化输入层、隐藏层、输出层的结点数\n",
    "        self.inodes = inputnodes\n",
    "        self.hnodes = hiddennodes\n",
    "        self.onodes = outputnodes\n",
    "        #从正态分布曲线提取初始化数值，初始化链接权重（i-input h-hidden o=output）\n",
    "        self.wih = numpy.random.normal(0.0, pow(self.inodes, -0.5), (self.hnodes, self.inodes))\n",
    "        self.who = numpy.random.normal(0.0, pow(self.hnodes, -0.5), (self.onodes, self.hnodes))\n",
    "        #初始化学习率lr\n",
    "        self.lr = learningrate\n",
    "        #激活函数——S函数\n",
    "        self.activation_function = lambda x: scipy.special.expit(x)\n",
    "        pass\n",
    "    \n",
    "    #训练神经网络\n",
    "    def train(self, inputs_list, targets_list):\n",
    "        #转化数组为二维\n",
    "        inputs = numpy.array(inputs_list, ndmin=2).T\n",
    "        targets = numpy.array(targets_list, ndmin=2).T\n",
    "        #计算隐藏层输入\n",
    "        hidden_inputs = numpy.dot(self.wih, inputs)\n",
    "        #隐藏层输入->S函数->隐藏层输出\n",
    "        hidden_outputs = self.activation_function(hidden_inputs)\n",
    "        #计算输出层输入\n",
    "        final_inputs = numpy.dot(self.who, hidden_outputs)\n",
    "        #输出层输入->S函数->输出层输出\n",
    "        final_outputs = self.activation_function(final_inputs)\n",
    "        #输出层误差值(target - actual)\n",
    "        output_errors = targets - final_outputs\n",
    "        #隐藏层误差值\n",
    "        hidden_errors = numpy.dot(self.who.T, output_errors) \n",
    "        #更新隐藏层和输出层间的链接权重\n",
    "        self.who += self.lr * numpy.dot((output_errors * final_outputs * (1.0 - final_outputs)), numpy.transpose(hidden_outputs))\n",
    "        #更新输出入层和隐藏层间的链接权重\n",
    "        self.wih += self.lr * numpy.dot((hidden_errors * hidden_outputs * (1.0 - hidden_outputs)), numpy.transpose(inputs))\n",
    "        pass\n",
    "    \n",
    "    #测试神经网络\n",
    "    def query(self, inputs_list):\n",
    "        #转化数组为二维\n",
    "        inputs = numpy.array(inputs_list, ndmin=2).T\n",
    "        #计算隐藏层输入\n",
    "        hidden_inputs = numpy.dot(self.wih, inputs)\n",
    "        #隐藏层输入->S函数->隐藏层输出\n",
    "        hidden_outputs = self.activation_function(hidden_inputs)\n",
    "        #计算输出层输入\n",
    "        final_inputs = numpy.dot(self.who, hidden_outputs)\n",
    "        #输出层输入->S函数->输出层输出\n",
    "        final_outputs = self.activation_function(final_inputs)\n",
    "        return final_outputs"
   ]
  },
  {
   "cell_type": "code",
   "execution_count": 3,
   "metadata": {},
   "outputs": [],
   "source": [
    "#初始化结点\n",
    "input_nodes = 784\n",
    "hidden_nodes = 200\n",
    "output_nodes = 10\n",
    "#学习率\n",
    "learning_rate = 0.1\n",
    "#创建神经网络对象\n",
    "n = neuralNetwork(input_nodes,hidden_nodes,output_nodes, learning_rate)"
   ]
  },
  {
   "cell_type": "code",
   "execution_count": 15,
   "metadata": {},
   "outputs": [],
   "source": [
    "#导入CSV训练数据\n",
    "training_data_file = open(\"mnist_train.csv\", 'r')\n",
    "training_data_list = training_data_file.readlines()\n",
    "training_data_file.close()"
   ]
  },
  {
   "cell_type": "code",
   "execution_count": 16,
   "metadata": {},
   "outputs": [],
   "source": [
    "#训练神经网络\n",
    "#重复训练 epochs次\n",
    "epochs = 5\n",
    "for e in range(epochs):\n",
    "    #对于训练集的每一条数据\n",
    "    for record in training_data_list:\n",
    "        #剔除‘,’\n",
    "        all_values = record.split(',')\n",
    "        #将数据值0~255压缩至0.01~0.99\n",
    "        inputs = (numpy.asfarray(all_values[1:]) / 255.0 * 0.99) + 0.01\n",
    "        #创建期望输出值（如0.01 0.01 0.01 0.99 0.01 0.01 0.01 0.01 0.01 0.01代表数字3）\n",
    "        targets = numpy.zeros(output_nodes) + 0.01\n",
    "        targets[int(all_values[0])] = 0.99\n",
    "        n.train(inputs, targets)\n",
    "        pass\n",
    "    pass"
   ]
  },
  {
   "cell_type": "code",
   "execution_count": 17,
   "metadata": {},
   "outputs": [],
   "source": [
    "#导入CSV测试数据\n",
    "test_data_file = open(\"mnist_test.csv\", 'r')\n",
    "test_data_list = test_data_file.readlines()\n",
    "test_data_file.close()"
   ]
  },
  {
   "cell_type": "code",
   "execution_count": 18,
   "metadata": {},
   "outputs": [],
   "source": [
    "#测试神经网络\n",
    "\n",
    "#记录神经网络的表现\n",
    "scorecard = []\n",
    "#对于测试集中的每一条数据\n",
    "for record in test_data_list:\n",
    "    #剔除‘,’\n",
    "    all_values = record.split(',')\n",
    "    #期望得到的结果\n",
    "    correct_label = int(all_values[0])\n",
    "    #将数据值0~255压缩至0.01~0.99\n",
    "    inputs = (numpy.asfarray(all_values[1:]) / 255.0 * 0.99) + 0.01\n",
    "    #测试神经网络\n",
    "    outputs = n.query(inputs)\n",
    "    #得到测试结果\n",
    "    label = numpy.argmax(outputs)\n",
    "    #比照测试结果与期望结果\n",
    "    if (label == correct_label):\n",
    "        #识别正确\n",
    "        scorecard.append(1)\n",
    "    else:\n",
    "        #识别错误\n",
    "        scorecard.append(0)\n",
    "        pass   \n",
    "    pass"
   ]
  },
  {
   "cell_type": "code",
   "execution_count": 19,
   "metadata": {},
   "outputs": [
    {
     "name": "stdout",
     "output_type": "stream",
     "text": [
      "准确度 =  0.9731\n"
     ]
    }
   ],
   "source": [
    "#计算识别准确度\n",
    "scorecard_array = numpy.asarray(scorecard)\n",
    "print (\"准确度 = \", scorecard_array.sum() / scorecard_array.size)"
   ]
  }
 ],
 "metadata": {
  "kernelspec": {
   "display_name": "Python 3",
   "language": "python",
   "name": "python3"
  },
  "language_info": {
   "codemirror_mode": {
    "name": "ipython",
    "version": 3
   },
   "file_extension": ".py",
   "mimetype": "text/x-python",
   "name": "python",
   "nbconvert_exporter": "python",
   "pygments_lexer": "ipython3",
   "version": "3.7.4"
  }
 },
 "nbformat": 4,
 "nbformat_minor": 2
}
